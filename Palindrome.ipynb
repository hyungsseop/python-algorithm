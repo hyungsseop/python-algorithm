{
 "cells": [
  {
   "cell_type": "code",
   "execution_count": 50,
   "metadata": {},
   "outputs": [],
   "source": [
    "import collections\n",
    "import re"
   ]
  },
  {
   "cell_type": "code",
   "execution_count": 55,
   "metadata": {},
   "outputs": [],
   "source": [
    "class palindrome:\n",
    "    def isPalindrome(self, s: str) -> bool:\n",
    "        strs = []\n",
    "        for char in s:\n",
    "            if char.isalnum():\n",
    "                strs.append(char.lower())\n",
    "        # choice whether palindrome or not\n",
    "        while len(strs)>1:\n",
    "            if strs.pop(0) != strs.pop():\n",
    "                return False\n",
    "        return True\n",
    "    # Time complexity of list.pop(0) is O(n)\n",
    "    \n",
    "    def isPalindrome2(self, s: str) -> bool:\n",
    "        strs: Deque = collections.deque()\n",
    "        \n",
    "        for char in s:\n",
    "            if char.isalnum():\n",
    "                strs.append(char.lower())\n",
    "        while len(strs)>1:\n",
    "            if strs.popleft() != strs.pop():\n",
    "                return False\n",
    "        return True\n",
    "    # Time complexitiy of deque.popleft() is O(1)\n",
    "    \n",
    "    def isPalindrome3(self, s:str) -> bool:\n",
    "        s = s.lower()\n",
    "        s = re.sub('[^a-z0-9]','',s)\n",
    "        \n",
    "        return s == s[::-1]"
   ]
  },
  {
   "cell_type": "code",
   "execution_count": 56,
   "metadata": {},
   "outputs": [
    {
     "name": "stdout",
     "output_type": "stream",
     "text": [
      "True\n",
      "True\n",
      "True\n"
     ]
    }
   ],
   "source": [
    "a = palindrome()\n",
    "print(a.isPalindrome(\"A man, a plan, a canal: panama\"))\n",
    "print(a.isPalindrome2(\"A man, a plan, a canal: panama\"))\n",
    "print(a.isPalindrome3(\"A man, a plan, a canal: panama\"))"
   ]
  },
  {
   "cell_type": "code",
   "execution_count": 52,
   "metadata": {},
   "outputs": [
    {
     "name": "stdout",
     "output_type": "stream",
     "text": [
      "False\n",
      "False\n",
      "False\n"
     ]
    }
   ],
   "source": [
    "print(a.isPalindrome(\"race a car\"))\n",
    "print(a.isPalindrome2(\"race a car\"))\n",
    "print(a.isPalindrome3(\"race a car\"))"
   ]
  },
  {
   "cell_type": "code",
   "execution_count": null,
   "metadata": {},
   "outputs": [],
   "source": []
  }
 ],
 "metadata": {
  "kernelspec": {
   "display_name": "Python 3",
   "language": "python",
   "name": "python3"
  },
  "language_info": {
   "codemirror_mode": {
    "name": "ipython",
    "version": 3
   },
   "file_extension": ".py",
   "mimetype": "text/x-python",
   "name": "python",
   "nbconvert_exporter": "python",
   "pygments_lexer": "ipython3",
   "version": "3.7.9"
  }
 },
 "nbformat": 4,
 "nbformat_minor": 4
}
