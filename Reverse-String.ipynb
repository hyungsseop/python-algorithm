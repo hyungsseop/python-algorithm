{
 "cells": [
  {
   "cell_type": "code",
   "execution_count": 1,
   "metadata": {},
   "outputs": [],
   "source": [
    "class Reverse_String:\n",
    "    def reverse_string(self, s: list) -> None:\n",
    "        left, right = 0, len(s)-1\n",
    "        while left<right:\n",
    "            s[left], s[right] = s[right], s[left]\n",
    "            left += 1\n",
    "            right -= 1\n",
    "        print(s)\n",
    "    # using two pointer\n",
    "    \n",
    "    def reverse_string2(self, s: list) -> None:\n",
    "        s.reverse()\n",
    "        print(s)\n",
    "    # list has reverse method"
   ]
  },
  {
   "cell_type": "code",
   "execution_count": 2,
   "metadata": {},
   "outputs": [
    {
     "name": "stdout",
     "output_type": "stream",
     "text": [
      "['o', 'l', 'l', 'e', 'h']\n",
      "None\n",
      "['o', 'l', 'l', 'e', 'h']\n",
      "None\n"
     ]
    }
   ],
   "source": [
    "a = Reverse_String()\n",
    "print(a.reverse_string([\"h\",\"e\",\"l\",\"l\",\"o\"]))\n",
    "print(a.reverse_string2([\"h\",\"e\",\"l\",\"l\",\"o\"]))"
   ]
  },
  {
   "cell_type": "code",
   "execution_count": null,
   "metadata": {},
   "outputs": [],
   "source": []
  }
 ],
 "metadata": {
  "kernelspec": {
   "display_name": "Python 3",
   "language": "python",
   "name": "python3"
  },
  "language_info": {
   "codemirror_mode": {
    "name": "ipython",
    "version": 3
   },
   "file_extension": ".py",
   "mimetype": "text/x-python",
   "name": "python",
   "nbconvert_exporter": "python",
   "pygments_lexer": "ipython3",
   "version": "3.7.9"
  }
 },
 "nbformat": 4,
 "nbformat_minor": 4
}
